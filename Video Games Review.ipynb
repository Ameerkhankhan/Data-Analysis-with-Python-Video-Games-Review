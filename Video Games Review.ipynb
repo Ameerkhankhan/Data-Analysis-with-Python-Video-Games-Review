{
 "cells": [
  {
   "cell_type": "code",
   "execution_count": 1,
   "id": "02f2f34e",
   "metadata": {
    "execution": {
     "iopub.execute_input": "2021-11-18T16:31:14.519695Z",
     "iopub.status.busy": "2021-11-18T16:31:14.518835Z",
     "iopub.status.idle": "2021-11-18T16:31:15.441526Z",
     "shell.execute_reply": "2021-11-18T16:31:15.442345Z",
     "shell.execute_reply.started": "2021-11-18T15:35:14.522016Z"
    },
    "papermill": {
     "duration": 0.942451,
     "end_time": "2021-11-18T16:31:15.442579",
     "exception": false,
     "start_time": "2021-11-18T16:31:14.500128",
     "status": "completed"
    },
    "tags": []
   },
   "outputs": [],
   "source": [
    "import seaborn as sns\n",
    "import matplotlib.pyplot as plt\n",
    "import pandas as pd"
   ]
  },
  {
   "cell_type": "code",
   "execution_count": 2,
   "id": "aa16a9f7",
   "metadata": {
    "execution": {
     "iopub.execute_input": "2021-11-18T16:31:15.479490Z",
     "iopub.status.busy": "2021-11-18T16:31:15.478236Z",
     "iopub.status.idle": "2021-11-18T16:31:15.495960Z",
     "shell.execute_reply": "2021-11-18T16:31:15.495427Z",
     "shell.execute_reply.started": "2021-11-18T15:19:10.150902Z"
    },
    "papermill": {
     "duration": 0.037601,
     "end_time": "2021-11-18T16:31:15.496100",
     "exception": false,
     "start_time": "2021-11-18T16:31:15.458499",
     "status": "completed"
    },
    "tags": []
   },
   "outputs": [],
   "source": [
    "df = pd.read_csv(\"reviews.csv\")"
   ]
  },
  {
   "cell_type": "code",
   "execution_count": 3,
   "id": "5b5e5662",
   "metadata": {
    "execution": {
     "iopub.execute_input": "2021-11-18T16:31:15.536593Z",
     "iopub.status.busy": "2021-11-18T16:31:15.535919Z",
     "iopub.status.idle": "2021-11-18T16:31:15.551228Z",
     "shell.execute_reply": "2021-11-18T16:31:15.550649Z",
     "shell.execute_reply.started": "2021-11-18T15:19:18.950231Z"
    },
    "papermill": {
     "duration": 0.039607,
     "end_time": "2021-11-18T16:31:15.551358",
     "exception": false,
     "start_time": "2021-11-18T16:31:15.511751",
     "status": "completed"
    },
    "tags": []
   },
   "outputs": [
    {
     "data": {
      "text/html": [
       "<div>\n",
       "<style scoped>\n",
       "    .dataframe tbody tr th:only-of-type {\n",
       "        vertical-align: middle;\n",
       "    }\n",
       "\n",
       "    .dataframe tbody tr th {\n",
       "        vertical-align: top;\n",
       "    }\n",
       "\n",
       "    .dataframe thead th {\n",
       "        text-align: right;\n",
       "    }\n",
       "</style>\n",
       "<table border=\"1\" class=\"dataframe\">\n",
       "  <thead>\n",
       "    <tr style=\"text-align: right;\">\n",
       "      <th></th>\n",
       "      <th>title</th>\n",
       "      <th>developers</th>\n",
       "      <th>publishers</th>\n",
       "      <th>release_date</th>\n",
       "      <th>platforms</th>\n",
       "      <th>genres</th>\n",
       "      <th>score</th>\n",
       "      <th>reviewed_by</th>\n",
       "    </tr>\n",
       "  </thead>\n",
       "  <tbody>\n",
       "    <tr>\n",
       "      <th>0</th>\n",
       "      <td>Mass Effect Legendary Edition  Part 3: Mass Ef...</td>\n",
       "      <td>BioWare</td>\n",
       "      <td>Electronic Arts</td>\n",
       "      <td>2021-05-14</td>\n",
       "      <td>Xbox One,  PlayStation 4,  PC</td>\n",
       "      <td>Compilation,  RPG</td>\n",
       "      <td>8</td>\n",
       "      <td>Dan Stapleton</td>\n",
       "    </tr>\n",
       "    <tr>\n",
       "      <th>1</th>\n",
       "      <td>Call of Duty: Vanguard - Single-Player Campaign</td>\n",
       "      <td>Treyarch,  Sledgehammer Games</td>\n",
       "      <td>Activision</td>\n",
       "      <td>2021-11-05</td>\n",
       "      <td>Xbox Series X|S,  Xbox One,  PlayStation 5,  P...</td>\n",
       "      <td>Shooter,  First-Person</td>\n",
       "      <td>7</td>\n",
       "      <td>Simon Cardy</td>\n",
       "    </tr>\n",
       "    <tr>\n",
       "      <th>2</th>\n",
       "      <td>Shin Megami Tensei V</td>\n",
       "      <td>Atlus</td>\n",
       "      <td>Atlus</td>\n",
       "      <td>2021-11-12</td>\n",
       "      <td>Nintendo Switch</td>\n",
       "      <td>RPG</td>\n",
       "      <td>8</td>\n",
       "      <td>Leana Hafer</td>\n",
       "    </tr>\n",
       "    <tr>\n",
       "      <th>3</th>\n",
       "      <td>Forza Horizon 5</td>\n",
       "      <td>Playground Games</td>\n",
       "      <td>Xbox Game Studios</td>\n",
       "      <td>2021-11-09</td>\n",
       "      <td>PC,  Xbox Series X|S,  Xbox One</td>\n",
       "      <td>Racing</td>\n",
       "      <td>10</td>\n",
       "      <td>Luke Reilly</td>\n",
       "    </tr>\n",
       "    <tr>\n",
       "      <th>4</th>\n",
       "      <td>Riders Republic</td>\n",
       "      <td>Ubisoft Annecy</td>\n",
       "      <td>Ubisoft</td>\n",
       "      <td>2021-10-28</td>\n",
       "      <td>Stadia,  PlayStation 5,  PlayStation 4,  Xbox ...</td>\n",
       "      <td>Sports,  Extreme Sports</td>\n",
       "      <td>8</td>\n",
       "      <td>Travis Northup</td>\n",
       "    </tr>\n",
       "  </tbody>\n",
       "</table>\n",
       "</div>"
      ],
      "text/plain": [
       "                                               title  \\\n",
       "0  Mass Effect Legendary Edition  Part 3: Mass Ef...   \n",
       "1   Call of Duty: Vanguard - Single-Player Campaign    \n",
       "2                              Shin Megami Tensei V    \n",
       "3                                   Forza Horizon 5    \n",
       "4                                   Riders Republic    \n",
       "\n",
       "                      developers         publishers release_date  \\\n",
       "0                        BioWare    Electronic Arts   2021-05-14   \n",
       "1  Treyarch,  Sledgehammer Games         Activision   2021-11-05   \n",
       "2                          Atlus              Atlus   2021-11-12   \n",
       "3               Playground Games  Xbox Game Studios   2021-11-09   \n",
       "4                 Ubisoft Annecy            Ubisoft   2021-10-28   \n",
       "\n",
       "                                           platforms                   genres  \\\n",
       "0                      Xbox One,  PlayStation 4,  PC        Compilation,  RPG   \n",
       "1  Xbox Series X|S,  Xbox One,  PlayStation 5,  P...   Shooter,  First-Person   \n",
       "2                                    Nintendo Switch                      RPG   \n",
       "3                    PC,  Xbox Series X|S,  Xbox One                   Racing   \n",
       "4  Stadia,  PlayStation 5,  PlayStation 4,  Xbox ...  Sports,  Extreme Sports   \n",
       "\n",
       "   score     reviewed_by  \n",
       "0      8   Dan Stapleton  \n",
       "1      7     Simon Cardy  \n",
       "2      8     Leana Hafer  \n",
       "3     10     Luke Reilly  \n",
       "4      8  Travis Northup  "
      ]
     },
     "execution_count": 3,
     "metadata": {},
     "output_type": "execute_result"
    }
   ],
   "source": [
    "df.head()"
   ]
  },
  {
   "cell_type": "markdown",
   "id": "6e3fa25b",
   "metadata": {
    "papermill": {
     "duration": 0.013343,
     "end_time": "2021-11-18T16:31:15.578713",
     "exception": false,
     "start_time": "2021-11-18T16:31:15.565370",
     "status": "completed"
    },
    "tags": []
   },
   "source": [
    "- In this small dataset, we will first look at the overall scores of developers and publishers.\n",
    "- Next, we'll look at the average ratings given by the reviewers.\n",
    "- Finally, we will draw a time series according to the release dates of the games and look at the score trend."
   ]
  },
  {
   "cell_type": "code",
   "execution_count": 4,
   "id": "b5253c0c",
   "metadata": {
    "execution": {
     "iopub.execute_input": "2021-11-18T16:31:15.613525Z",
     "iopub.status.busy": "2021-11-18T16:31:15.612910Z",
     "iopub.status.idle": "2021-11-18T16:31:15.632650Z",
     "shell.execute_reply": "2021-11-18T16:31:15.632066Z",
     "shell.execute_reply.started": "2021-11-18T15:19:38.857827Z"
    },
    "papermill": {
     "duration": 0.040319,
     "end_time": "2021-11-18T16:31:15.632802",
     "exception": false,
     "start_time": "2021-11-18T16:31:15.592483",
     "status": "completed"
    },
    "tags": []
   },
   "outputs": [
    {
     "name": "stdout",
     "output_type": "stream",
     "text": [
      "<class 'pandas.core.frame.DataFrame'>\n",
      "RangeIndex: 236 entries, 0 to 235\n",
      "Data columns (total 8 columns):\n",
      " #   Column        Non-Null Count  Dtype \n",
      "---  ------        --------------  ----- \n",
      " 0   title         236 non-null    object\n",
      " 1   developers    205 non-null    object\n",
      " 2   publishers    232 non-null    object\n",
      " 3   release_date  221 non-null    object\n",
      " 4   platforms     234 non-null    object\n",
      " 5   genres        235 non-null    object\n",
      " 6   score         236 non-null    int64 \n",
      " 7   reviewed_by   236 non-null    object\n",
      "dtypes: int64(1), object(7)\n",
      "memory usage: 14.9+ KB\n"
     ]
    }
   ],
   "source": [
    "df.info()"
   ]
  },
  {
   "cell_type": "markdown",
   "id": "e83667bf",
   "metadata": {
    "papermill": {
     "duration": 0.014161,
     "end_time": "2021-11-18T16:31:15.662949",
     "exception": false,
     "start_time": "2021-11-18T16:31:15.648788",
     "status": "completed"
    },
    "tags": []
   },
   "source": [
    "First, we look at the number of publishers in the dataset. Since the numbers are small, only the first 5 publisher information will be used."
   ]
  },
  {
   "cell_type": "code",
   "execution_count": 5,
   "id": "de8811e3",
   "metadata": {
    "execution": {
     "iopub.execute_input": "2021-11-18T16:31:15.696132Z",
     "iopub.status.busy": "2021-11-18T16:31:15.695518Z",
     "iopub.status.idle": "2021-11-18T16:31:15.702697Z",
     "shell.execute_reply": "2021-11-18T16:31:15.703146Z",
     "shell.execute_reply.started": "2021-11-18T15:28:18.013668Z"
    },
    "papermill": {
     "duration": 0.026021,
     "end_time": "2021-11-18T16:31:15.703330",
     "exception": false,
     "start_time": "2021-11-18T16:31:15.677309",
     "status": "completed"
    },
    "tags": []
   },
   "outputs": [
    {
     "data": {
      "text/plain": [
       "Electronic Arts                   13\n",
       "Square Enix                       10\n",
       "Nintendo                          10\n",
       "Ubisoft                            7\n",
       "Sony Interactive Entertainment     6\n",
       "                                  ..\n",
       "NetEase , 24 Entertainment         1\n",
       "Marvelous Entertainment            1\n",
       "1C Entertainment                   1\n",
       "Pandasaurus                        1\n",
       "Young Horses, Inc.                 1\n",
       "Name: publishers, Length: 136, dtype: int64"
      ]
     },
     "execution_count": 5,
     "metadata": {},
     "output_type": "execute_result"
    }
   ],
   "source": [
    "df[\"publishers\"].value_counts()"
   ]
  },
  {
   "cell_type": "markdown",
   "id": "4aa17e1b",
   "metadata": {
    "papermill": {
     "duration": 0.015017,
     "end_time": "2021-11-18T16:31:15.733056",
     "exception": false,
     "start_time": "2021-11-18T16:31:15.718039",
     "status": "completed"
    },
    "tags": []
   },
   "source": [
    "Average of publishers by scores:"
   ]
  },
  {
   "cell_type": "markdown",
   "id": "027f32c4",
   "metadata": {
    "papermill": {
     "duration": 0.01527,
     "end_time": "2021-11-18T16:31:15.810580",
     "exception": false,
     "start_time": "2021-11-18T16:31:15.795310",
     "status": "completed"
    },
    "tags": []
   },
   "source": [
    "Pie chart for the publishers:"
   ]
  },
  {
   "cell_type": "markdown",
   "id": "b1bece00",
   "metadata": {
    "papermill": {
     "duration": 0.015808,
     "end_time": "2021-11-18T16:31:16.053818",
     "exception": false,
     "start_time": "2021-11-18T16:31:16.038010",
     "status": "completed"
    },
    "tags": []
   },
   "source": [
    "Then the same will be done for the developer information. Since the numbers are small, only the first 3 developers information will be used."
   ]
  },
  {
   "cell_type": "code",
   "execution_count": 9,
   "id": "f79de0e6",
   "metadata": {
    "execution": {
     "iopub.execute_input": "2021-11-18T16:31:16.095653Z",
     "iopub.status.busy": "2021-11-18T16:31:16.094961Z",
     "iopub.status.idle": "2021-11-18T16:31:16.098987Z",
     "shell.execute_reply": "2021-11-18T16:31:16.098492Z",
     "shell.execute_reply.started": "2021-11-18T16:05:43.245311Z"
    },
    "papermill": {
     "duration": 0.028397,
     "end_time": "2021-11-18T16:31:16.099123",
     "exception": false,
     "start_time": "2021-11-18T16:31:16.070726",
     "status": "completed"
    },
    "tags": []
   },
   "outputs": [
    {
     "data": {
      "text/plain": [
       "Capcom                               4\n",
       "BioWare                              3\n",
       "EA Canada                            3\n",
       "Raven Software,  Treyarch            3\n",
       "Milestone                            3\n",
       "                                    ..\n",
       "Dang!                                1\n",
       "The Pokemon Company,  Timi Studio    1\n",
       "Fallen Flag Studio                   1\n",
       "Neon Giant                           1\n",
       "Young Horses,  Inc.                  1\n",
       "Name: developers, Length: 182, dtype: int64"
      ]
     },
     "execution_count": 9,
     "metadata": {},
     "output_type": "execute_result"
    }
   ],
   "source": [
    "df[\"developers\"].value_counts()"
   ]
  },
  {
   "cell_type": "code",
   "execution_count": 10,
   "id": "a82df29a",
   "metadata": {
    "execution": {
     "iopub.execute_input": "2021-11-18T16:31:16.135308Z",
     "iopub.status.busy": "2021-11-18T16:31:16.134659Z",
     "iopub.status.idle": "2021-11-18T16:31:16.142075Z",
     "shell.execute_reply": "2021-11-18T16:31:16.142556Z",
     "shell.execute_reply.started": "2021-11-18T16:07:24.441503Z"
    },
    "papermill": {
     "duration": 0.0271,
     "end_time": "2021-11-18T16:31:16.142733",
     "exception": false,
     "start_time": "2021-11-18T16:31:16.115633",
     "status": "completed"
    },
    "tags": []
   },
   "outputs": [
    {
     "name": "stdout",
     "output_type": "stream",
     "text": [
      "Average scores of games developed by Capcom: 8.0\n",
      "Average scores of games developed by BioWare: 8.333333333333334\n",
      "Average scores of games developed by EA Canada: 6.666666666666667\n"
     ]
    }
   ],
   "source": [
    "capcom_mean = df[df[\"developers\"] == \"Capcom\"][\"score\"].mean()\n",
    "bio_mean = df[df[\"developers\"] == \"BioWare\"][\"score\"].mean()\n",
    "ea_mean = df[df[\"developers\"] == \"EA Canada\"][\"score\"].mean()\n",
    "\n",
    "print(f\"Average scores of games developed by Capcom: {capcom_mean}\")\n",
    "print(f\"Average scores of games developed by BioWare: {bio_mean}\")\n",
    "print(f\"Average scores of games developed by EA Canada: {ea_mean}\")"
   ]
  },
  {
   "cell_type": "code",
   "execution_count": 11,
   "id": "245c1f2c",
   "metadata": {
    "execution": {
     "iopub.execute_input": "2021-11-18T16:31:16.180460Z",
     "iopub.status.busy": "2021-11-18T16:31:16.179530Z",
     "iopub.status.idle": "2021-11-18T16:31:16.280798Z",
     "shell.execute_reply": "2021-11-18T16:31:16.280263Z",
     "shell.execute_reply.started": "2021-11-18T16:08:17.567546Z"
    },
    "papermill": {
     "duration": 0.121208,
     "end_time": "2021-11-18T16:31:16.280937",
     "exception": false,
     "start_time": "2021-11-18T16:31:16.159729",
     "status": "completed"
    },
    "tags": []
   },
   "outputs": [
    {
     "data": {
      "text/plain": [
       "([<matplotlib.patches.Wedge at 0x244230a85e0>,\n",
       "  <matplotlib.patches.Wedge at 0x244230a8be0>,\n",
       "  <matplotlib.patches.Wedge at 0x244230a9300>],\n",
       " [Text(0.5060714301826006, 0.9766737979248432, 'Capcom'),\n",
       "  Text(-1.0818078244886113, -0.19922808756603094, 'BioWare'),\n",
       "  Text(0.6745936952959793, -0.8688632494627193, 'EA Canada')],\n",
       " [Text(0.2760389619177821, 0.5327311625044598, '34.78%'),\n",
       "  Text(-0.5900769951756061, -0.10866986594510779, '36.23%'),\n",
       "  Text(0.3679601974341705, -0.47392540879784684, '28.99%')])"
      ]
     },
     "execution_count": 11,
     "metadata": {},
     "output_type": "execute_result"
    },
    {
     "data": {
      "image/png": "[encoded data removed]",
      "text/plain": [
       "<Figure size 864x576 with 1 Axes>"
      ]
     },
     "metadata": {},
     "output_type": "display_data"
    }
   ],
   "source": [
    "dev_score_means = [capcom_mean, bio_mean, ea_mean]\n",
    "labels = [\"Capcom\", \"BioWare\", \"EA Canada\"]\n",
    "\n",
    "plt.figure(figsize=(12,8))\n",
    "plt.pie(dev_score_means, labels = labels, autopct='%.2f%%')"
   ]
  },
  {
   "cell_type": "markdown",
   "id": "750ea7f6",
   "metadata": {
    "papermill": {
     "duration": 0.017361,
     "end_time": "2021-11-18T16:31:16.317623",
     "exception": false,
     "start_time": "2021-11-18T16:31:16.300262",
     "status": "completed"
    },
    "tags": []
   },
   "source": [
    "A similar process will be carried out in order to examine the scoring behavior of the reviewers."
   ]
  },
  {
   "cell_type": "code",
   "execution_count": 12,
   "id": "04f936f9",
   "metadata": {
    "execution": {
     "iopub.execute_input": "2021-11-18T16:31:16.359305Z",
     "iopub.status.busy": "2021-11-18T16:31:16.358642Z",
     "iopub.status.idle": "2021-11-18T16:31:16.364955Z",
     "shell.execute_reply": "2021-11-18T16:31:16.365444Z",
     "shell.execute_reply.started": "2021-11-18T15:43:39.621361Z"
    },
    "papermill": {
     "duration": 0.028493,
     "end_time": "2021-11-18T16:31:16.365601",
     "exception": false,
     "start_time": "2021-11-18T16:31:16.337108",
     "status": "completed"
    },
    "tags": []
   },
   "outputs": [
    {
     "data": {
      "text/plain": [
       "Tristan Ogilvie      17\n",
       "Leana Hafer          16\n",
       "Luke Reilly          16\n",
       "Travis Northup       16\n",
       "Mitchell Saltzman    15\n",
       "Tom Marks            12\n",
       "Gabriel Moss         12\n",
       "Matt Thrower         11\n",
       "Simon Cardy          11\n",
       "Jarrett Green         7\n",
       "Name: reviewed_by, dtype: int64"
      ]
     },
     "execution_count": 12,
     "metadata": {},
     "output_type": "execute_result"
    }
   ],
   "source": [
    "df[\"reviewed_by\"].value_counts().head(10)"
   ]
  },
  {
   "cell_type": "code",
   "execution_count": 13,
   "id": "ddebdee1",
   "metadata": {
    "execution": {
     "iopub.execute_input": "2021-11-18T16:31:16.404572Z",
     "iopub.status.busy": "2021-11-18T16:31:16.403922Z",
     "iopub.status.idle": "2021-11-18T16:31:16.415907Z",
     "shell.execute_reply": "2021-11-18T16:31:16.416434Z",
     "shell.execute_reply.started": "2021-11-18T15:55:53.443595Z"
    },
    "papermill": {
     "duration": 0.032771,
     "end_time": "2021-11-18T16:31:16.416601",
     "exception": false,
     "start_time": "2021-11-18T16:31:16.383830",
     "status": "completed"
    },
    "tags": []
   },
   "outputs": [
    {
     "name": "stdout",
     "output_type": "stream",
     "text": [
      "Average scores of games reviewed by Tristan Ogilvie: 6.9411764705882355\n",
      "Average scores of games reviewed by Leana Hafer: 7.5\n",
      "Average scores of games reviewed by Luke Reilly: 7.0625\n",
      "Average scores of games reviewed by Travis Northup: 6.9375\n",
      "Average scores of games reviewed by Mitchell Saltzman: 7.933333333333334\n"
     ]
    }
   ],
   "source": [
    "review_1 = df[df[\"reviewed_by\"] == \"Tristan Ogilvie\"][\"score\"].mean()\n",
    "review_2 = df[df[\"reviewed_by\"] == \"Leana Hafer\"][\"score\"].mean()\n",
    "review_3 = df[df[\"reviewed_by\"] == \"Luke Reilly\"][\"score\"].mean()\n",
    "review_4 = df[df[\"reviewed_by\"] == \"Travis Northup\"][\"score\"].mean()\n",
    "review_5 = df[df[\"reviewed_by\"] == \"Mitchell Saltzman\"][\"score\"].mean()\n",
    "\n",
    "print(f\"Average scores of games reviewed by Tristan Ogilvie: {review_1}\")\n",
    "print(f\"Average scores of games reviewed by Leana Hafer: {review_2}\")\n",
    "print(f\"Average scores of games reviewed by Luke Reilly: {review_3}\")\n",
    "print(f\"Average scores of games reviewed by Travis Northup: {review_4}\")\n",
    "print(f\"Average scores of games reviewed by Mitchell Saltzman: {review_5}\")"
   ]
  },
  {
   "cell_type": "markdown",
   "id": "1275fd6e",
   "metadata": {
    "papermill": {
     "duration": 0.018267,
     "end_time": "2021-11-18T16:31:16.453310",
     "exception": false,
     "start_time": "2021-11-18T16:31:16.435043",
     "status": "completed"
    },
    "tags": []
   },
   "source": [
    "- Finally, a time series will be created according to the release dates of the games.\n",
    "- The first release date we have is 2004-11-22 and the last release date is 2021-11-12.\n",
    "- This will give us the scoring behavior over the last 17 years."
   ]
  },
  {
   "cell_type": "code",
   "execution_count": 14,
   "id": "38b8807c",
   "metadata": {
    "execution": {
     "iopub.execute_input": "2021-11-18T16:31:16.497463Z",
     "iopub.status.busy": "2021-11-18T16:31:16.496815Z",
     "iopub.status.idle": "2021-11-18T16:31:16.499298Z",
     "shell.execute_reply": "2021-11-18T16:31:16.499743Z",
     "shell.execute_reply.started": "2021-11-18T15:59:50.720654Z"
    },
    "papermill": {
     "duration": 0.027015,
     "end_time": "2021-11-18T16:31:16.499905",
     "exception": false,
     "start_time": "2021-11-18T16:31:16.472890",
     "status": "completed"
    },
    "tags": []
   },
   "outputs": [
    {
     "data": {
      "text/plain": [
       "array(['2021-05-14', '2021-11-05', '2021-11-12', '2021-11-09',\n",
       "       '2021-10-28', '2021-11-03', '2021-10-26', nan, '2021-08-19',\n",
       "       '2021-10-21', '2021-10-19', '2021-10-29', '2021-09-15',\n",
       "       '2021-10-14', '2021-10-22', '2021-05-18', '2021-10-20',\n",
       "       '2021-10-15', '2021-10-12', '2017-01-31', '2021-10-05',\n",
       "       '2021-10-08', '2021-10-07', '2021-09-30', '2021-10-09',\n",
       "       '2021-09-23', '2021-10-04', '2021-09-02', '2021-08-27',\n",
       "       '2019-05-28', '2021-09-29', '2021-09-11', '2019-11-07',\n",
       "       '2021-09-21', '2021-09-16', '2021-09-17', '2021-09-10',\n",
       "       '2021-09-14', '2021-08-26', '2021-09-03', '2021-08-31',\n",
       "       '2021-09-09', '2021-06-16', '2021-08-24', '2021-09-07',\n",
       "       '2020-05-22', '2021-08-11', '2021-08-25', '2021-08-20',\n",
       "       '2020-07-17', '2021-08-05', '2021-04-22', '2021-08-16',\n",
       "       '2021-08-12', '2020-01-01', '2021-08-02', '2021-07-27',\n",
       "       '2020-09-30', '2021-07-08', '2021-07-21', '2021-07-29',\n",
       "       '2020-11-10', '2021-07-28', '2021-07-26', '2021-07-20',\n",
       "       '2021-08-04', '2021-07-22', '2021-07-15', '2021-06-15',\n",
       "       '2021-07-16', '2021-07-02', '2020-05-05', '2021-06-24',\n",
       "       '2021-07-09', '2021-06-25', '2021-06-04', '2021-06-22',\n",
       "       '2021-06-08', '2021-06-10', '2020-06-14', '2015-06-09',\n",
       "       '2021-06-11', '2021-06-01', '2021-05-27', '2021-05-28',\n",
       "       '2021-05-21', '2020-09-01', '2021-04-15', '2021-05-25',\n",
       "       '2021-05-20', '2021-06-30', '2021-05-10', '2021-05-13',\n",
       "       '2021-05-07', '2021-04-30', '2021-04-29', '2021-04-20',\n",
       "       '2021-04-01', '2021-04-08', '2021-04-05', '2021-03-23',\n",
       "       '2021-03-28', '2021-03-30', '2021-03-26', '2016-09-25',\n",
       "       '2021-03-31', '2020-12-03', '2021-03-24', '2020-03-20',\n",
       "       '2021-03-25', '2021-03-04', '2019-10-25', '2019-02-04',\n",
       "       '2021-03-01', '2016-06-14', '2021-03-02', '2021-03-11',\n",
       "       '2021-03-09', '2021-02-25', '2021-02-26', '2020-03-03',\n",
       "       '2021-02-02', '2021-02-12', '2021-02-23', '2021-02-11',\n",
       "       '2020-11-13', '2021-02-04', '2020-08-28', '2021-01-28',\n",
       "       '2021-01-21', '2021-01-26', '2021-01-22', '2021-01-20',\n",
       "       '2020-08-14', '2019-07-31', '2018-06-15', '2020-05-21',\n",
       "       '2020-12-10', '2020-12-15', '2004-11-22', '2020-12-04',\n",
       "       '2020-12-08', '2020-12-01', '2020-11-12', '2020-11-06',\n",
       "       '2020-11-20', '2020-10-23', '2020-10-15'], dtype=object)"
      ]
     },
     "execution_count": 14,
     "metadata": {},
     "output_type": "execute_result"
    }
   ],
   "source": [
    "df[\"release_date\"].unique()"
   ]
  },
  {
   "cell_type": "code",
   "execution_count": 15,
   "id": "3bec1a74",
   "metadata": {
    "execution": {
     "iopub.execute_input": "2021-11-18T16:31:16.540406Z",
     "iopub.status.busy": "2021-11-18T16:31:16.539789Z",
     "iopub.status.idle": "2021-11-18T16:31:16.555108Z",
     "shell.execute_reply": "2021-11-18T16:31:16.555671Z",
     "shell.execute_reply.started": "2021-11-18T16:03:18.709912Z"
    },
    "papermill": {
     "duration": 0.036796,
     "end_time": "2021-11-18T16:31:16.555833",
     "exception": false,
     "start_time": "2021-11-18T16:31:16.519037",
     "status": "completed"
    },
    "tags": []
   },
   "outputs": [
    {
     "data": {
      "text/html": [
       "<div>\n",
       "<style scoped>\n",
       "    .dataframe tbody tr th:only-of-type {\n",
       "        vertical-align: middle;\n",
       "    }\n",
       "\n",
       "    .dataframe tbody tr th {\n",
       "        vertical-align: top;\n",
       "    }\n",
       "\n",
       "    .dataframe thead th {\n",
       "        text-align: right;\n",
       "    }\n",
       "</style>\n",
       "<table border=\"1\" class=\"dataframe\">\n",
       "  <thead>\n",
       "    <tr style=\"text-align: right;\">\n",
       "      <th></th>\n",
       "      <th>score</th>\n",
       "    </tr>\n",
       "    <tr>\n",
       "      <th>release_date</th>\n",
       "      <th></th>\n",
       "    </tr>\n",
       "  </thead>\n",
       "  <tbody>\n",
       "    <tr>\n",
       "      <th>2004-11-22</th>\n",
       "      <td>8.0</td>\n",
       "    </tr>\n",
       "    <tr>\n",
       "      <th>2015-06-09</th>\n",
       "      <td>7.0</td>\n",
       "    </tr>\n",
       "    <tr>\n",
       "      <th>2016-06-14</th>\n",
       "      <td>9.0</td>\n",
       "    </tr>\n",
       "    <tr>\n",
       "      <th>2016-09-25</th>\n",
       "      <td>7.0</td>\n",
       "    </tr>\n",
       "    <tr>\n",
       "      <th>2017-01-31</th>\n",
       "      <td>7.0</td>\n",
       "    </tr>\n",
       "    <tr>\n",
       "      <th>...</th>\n",
       "      <td>...</td>\n",
       "    </tr>\n",
       "    <tr>\n",
       "      <th>2021-10-29</th>\n",
       "      <td>8.0</td>\n",
       "    </tr>\n",
       "    <tr>\n",
       "      <th>2021-11-03</th>\n",
       "      <td>7.0</td>\n",
       "    </tr>\n",
       "    <tr>\n",
       "      <th>2021-11-05</th>\n",
       "      <td>7.0</td>\n",
       "    </tr>\n",
       "    <tr>\n",
       "      <th>2021-11-09</th>\n",
       "      <td>10.0</td>\n",
       "    </tr>\n",
       "    <tr>\n",
       "      <th>2021-11-12</th>\n",
       "      <td>8.0</td>\n",
       "    </tr>\n",
       "  </tbody>\n",
       "</table>\n",
       "<p>147 rows × 1 columns</p>\n",
       "</div>"
      ],
      "text/plain": [
       "              score\n",
       "release_date       \n",
       "2004-11-22      8.0\n",
       "2015-06-09      7.0\n",
       "2016-06-14      9.0\n",
       "2016-09-25      7.0\n",
       "2017-01-31      7.0\n",
       "...             ...\n",
       "2021-10-29      8.0\n",
       "2021-11-03      7.0\n",
       "2021-11-05      7.0\n",
       "2021-11-09     10.0\n",
       "2021-11-12      8.0\n",
       "\n",
       "[147 rows x 1 columns]"
      ]
     },
     "execution_count": 15,
     "metadata": {},
     "output_type": "execute_result"
    }
   ],
   "source": [
    "release_date_grouping = df.groupby(\"release_date\").mean()\n",
    "release_date_grouping[[\"score\"]]"
   ]
  },
  {
   "cell_type": "code",
   "execution_count": 16,
   "id": "615898df",
   "metadata": {
    "execution": {
     "iopub.execute_input": "2021-11-18T16:31:16.598187Z",
     "iopub.status.busy": "2021-11-18T16:31:16.597588Z",
     "iopub.status.idle": "2021-11-18T16:31:16.977487Z",
     "shell.execute_reply": "2021-11-18T16:31:16.976868Z",
     "shell.execute_reply.started": "2021-11-18T16:04:12.568998Z"
    },
    "papermill": {
     "duration": 0.401618,
     "end_time": "2021-11-18T16:31:16.977629",
     "exception": false,
     "start_time": "2021-11-18T16:31:16.576011",
     "status": "completed"
    },
    "tags": []
   },
   "outputs": [
    {
     "data": {
      "text/plain": [
       "<AxesSubplot:xlabel='release_date'>"
      ]
     },
     "execution_count": 16,
     "metadata": {},
     "output_type": "execute_result"
    },
    {
     "data": {
      "image/png": "[encoded data removed]",
      "text/plain": [
       "<Figure size 864x576 with 1 Axes>"
      ]
     },
     "metadata": {
      "needs_background": "light"
     },
     "output_type": "display_data"
    }
   ],
   "source": [
    "plt.figure(figsize=(12,8))\n",
    "release_date_grouping[\"score\"].plot(x=df.release_date)"
   ]
  },
  {
   "cell_type": "markdown",
   "id": "1fedddd7",
   "metadata": {
    "papermill": {
     "duration": 0.028048,
     "end_time": "2021-11-18T16:31:17.028026",
     "exception": false,
     "start_time": "2021-11-18T16:31:16.999978",
     "status": "completed"
    },
    "tags": []
   },
   "source": [
    "- While there have been ups and downs, the scoring range seems to be stuck between 7-9."
   ]
  }
 ],
 "metadata": {
  "kernelspec": {
   "display_name": "Python 3 (ipykernel)",
   "language": "python",
   "name": "python3"
  },
  "language_info": {
   "codemirror_mode": {
    "name": "ipython",
    "version": 3
   },
   "file_extension": ".py",
   "mimetype": "text/x-python",
   "name": "python",
   "nbconvert_exporter": "python",
   "pygments_lexer": "ipython3",
   "version": "3.10.2"
  },
  "papermill": {
   "default_parameters": {},
   "duration": 11.382757,
   "end_time": "2021-11-18T16:31:17.773185",
   "environment_variables": {},
   "exception": null,
   "input_path": "__notebook__.ipynb",
   "output_path": "__notebook__.ipynb",
   "parameters": {},
   "start_time": "2021-11-18T16:31:06.390428",
   "version": "2.3.3"
  }
 },
 "nbformat": 4,
 "nbformat_minor": 5
}
